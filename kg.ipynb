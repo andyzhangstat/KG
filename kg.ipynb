{
 "cells": [
  {
   "cell_type": "code",
   "execution_count": 1,
   "metadata": {},
   "outputs": [],
   "source": [
    "import warnings\n",
    "# Suppress all warnings\n",
    "warnings.filterwarnings('ignore')"
   ]
  },
  {
   "cell_type": "code",
   "execution_count": 2,
   "metadata": {},
   "outputs": [],
   "source": [
    "import sys\n",
    "import os\n",
    "from dotenv import find_dotenv\n",
    "from dotenv import load_dotenv\n",
    "\n",
    "sys.path.append('../..')\n",
    "_ = load_dotenv(find_dotenv()) # read local .env file"
   ]
  },
  {
   "cell_type": "code",
   "execution_count": null,
   "metadata": {},
   "outputs": [],
   "source": []
  },
  {
   "cell_type": "code",
   "execution_count": 3,
   "metadata": {},
   "outputs": [],
   "source": [
    "# !pip install neo4j"
   ]
  },
  {
   "cell_type": "code",
   "execution_count": 4,
   "metadata": {},
   "outputs": [],
   "source": [
    "\n",
    "from neo4j import GraphDatabase\n",
    "\n",
    "user_name = os.environ['user_name']\n",
    "password = os.environ['password']\n",
    "url = os.environ['url']\n",
    "\n",
    "driver = GraphDatabase.driver(url,auth=(user_name, password))"
   ]
  },
  {
   "cell_type": "code",
   "execution_count": 5,
   "metadata": {},
   "outputs": [],
   "source": [
    "\n",
    "def add_friend(tx, name, friend_name):\n",
    "    tx.run(\"MERGE (a:Person {name: $name}) \"\n",
    "           \"MERGE (a)-[:KNOWS]->(friend:Person {name: $friend_name})\",\n",
    "            name=name, friend_name=friend_name)\n"
   ]
  },
  {
   "cell_type": "code",
   "execution_count": 6,
   "metadata": {},
   "outputs": [],
   "source": [
    "\n",
    "def print_friends(tx, name):\n",
    "    for record in tx.run(\"MATCH (a:Person)-[:KNOWS]->(friend) WHERE a.name = $name \"\n",
    "                          \"RETURN friend.name ORDER BY friend.name\", name=name):\n",
    "        print(record[\"friend.name\"])\n"
   ]
  },
  {
   "cell_type": "code",
   "execution_count": 7,
   "metadata": {},
   "outputs": [
    {
     "name": "stdout",
     "output_type": "stream",
     "text": [
      "Guinevere\n",
      "Lancelot\n",
      "Merlin\n"
     ]
    }
   ],
   "source": [
    "\n",
    "with driver.session() as session:\n",
    "    session.write_transaction(add_friend, \"Arthur\", \"Guinevere\")\n",
    "    session.write_transaction(add_friend, \"Arthur\", \"Lancelot\")\n",
    "    session.write_transaction(add_friend, \"Arthur\", \"Merlin\")\n",
    "    session.read_transaction(print_friends, \"Arthur\")\n"
   ]
  },
  {
   "cell_type": "code",
   "execution_count": 8,
   "metadata": {},
   "outputs": [],
   "source": [
    "# !pip install py2neo"
   ]
  },
  {
   "cell_type": "code",
   "execution_count": 9,
   "metadata": {},
   "outputs": [],
   "source": [
    "\n",
    "from py2neo import Graph, Node, Relationship\n"
   ]
  },
  {
   "cell_type": "code",
   "execution_count": 10,
   "metadata": {},
   "outputs": [],
   "source": [
    "\n",
    "g = Graph(url, auth=(user_name, password))"
   ]
  },
  {
   "cell_type": "code",
   "execution_count": 11,
   "metadata": {},
   "outputs": [],
   "source": [
    "\n",
    "tx = g.begin()\n",
    "a = Node(\"Person\", name=\"Alice\")\n",
    "tx.create(a)\n",
    "b = Node(\"Person\", name=\"Bob\")\n",
    "\n",
    "ab = Relationship(a, \"KNOWS\", b)\n",
    "\n",
    "tx.create(ab)\n",
    "tx.commit()\n"
   ]
  },
  {
   "cell_type": "code",
   "execution_count": null,
   "metadata": {},
   "outputs": [],
   "source": []
  },
  {
   "cell_type": "code",
   "execution_count": 12,
   "metadata": {},
   "outputs": [],
   "source": [
    "from py2neo import Graph, Node, Relationship, Subgraph\n",
    "\n",
    "\n",
    "g = Graph(url, auth=(user_name, password))\n"
   ]
  },
  {
   "cell_type": "code",
   "execution_count": 13,
   "metadata": {},
   "outputs": [],
   "source": [
    "\n",
    "g.delete_all()\n"
   ]
  },
  {
   "cell_type": "code",
   "execution_count": 14,
   "metadata": {},
   "outputs": [],
   "source": [
    "\n",
    "tx = g.begin()\n",
    "names = ['John', 'Sally', 'Steve', 'Mike', 'Liz', 'Shawn']\n",
    "for p_name in names:\n",
    "    p_node = Node(\"Person\", name=p_name)\n",
    "    tx.create(p_node)\n",
    "tx.commit()\n"
   ]
  },
  {
   "cell_type": "code",
   "execution_count": 15,
   "metadata": {},
   "outputs": [],
   "source": [
    "\n",
    "tx = g.begin()\n",
    "locations = [{'city':'Miami', 'state':'FL'}, {'city':'Boston', 'state':'MA'}, {'city':'Lynn', 'state':'MA'}, \n",
    "             {'city':'Portland', 'state':'ME'}, {'city':'San Francisco', 'state':'CA'}]\n",
    "for location in locations:\n",
    "    l_node = Node(\"Location\", city=location['city'], state=location['state'])\n",
    "    tx.create(l_node)\n",
    "tx.commit()\n"
   ]
  },
  {
   "cell_type": "code",
   "execution_count": 16,
   "metadata": {},
   "outputs": [],
   "source": [
    "\n",
    "tx = g.begin()\n",
    "a = tx.graph.nodes.match(\"Person\", name='Liz').first()\n",
    "b = tx.graph.nodes.match(\"Person\", name='Mike').first()\n",
    "ab = Relationship(a, \"FRIENDS\", b)\n",
    "tx.create(ab)\n",
    "tx.commit()\n"
   ]
  },
  {
   "cell_type": "code",
   "execution_count": 17,
   "metadata": {},
   "outputs": [],
   "source": [
    "\n",
    "tx = g.begin()\n",
    "a = tx.graph.nodes.match(\"Person\", name='Shawn').first()\n",
    "b = tx.graph.nodes.match(\"Person\", name='Sally').first()\n",
    "ab = Relationship(a, \"FRIENDS\", b, since=2001)\n",
    "tx.create(ab)\n",
    "tx.commit()\n"
   ]
  },
  {
   "cell_type": "code",
   "execution_count": 18,
   "metadata": {},
   "outputs": [],
   "source": [
    "\n",
    "tx = g.begin()\n",
    "a = tx.graph.nodes.match(\"Person\", name='Shawn').first()\n",
    "b = tx.graph.nodes.match(\"Person\", name='John').first()\n",
    "c = tx.graph.nodes.match(\"Person\", name='Mike').first()\n",
    "d = tx.graph.nodes.match(\"Person\", name='Sally').first()\n",
    "e = tx.graph.nodes.match(\"Person\", name='Steve').first()\n",
    "f = tx.graph.nodes.match(\"Person\", name='Liz').first()\n",
    "ab = Relationship(a, \"FRIENDS\", b, since=2012)\n",
    "ca = Relationship(c, \"FRIENDS\", a, since=2006)\n",
    "de = Relationship(d, \"FRIENDS\", e, since=2006)\n",
    "fb = Relationship(f, \"MARRIED\", b, since=1998)\n",
    "A = Subgraph(relationships=[ab, ca, de, fb])   \n",
    "tx.create(A)\n",
    "tx.commit()\n"
   ]
  },
  {
   "cell_type": "code",
   "execution_count": 19,
   "metadata": {},
   "outputs": [],
   "source": [
    "\n",
    "tx = g.begin()\n",
    "p_John = tx.graph.nodes.match(\"Person\", name='John').first()\n",
    "p_Liz = tx.graph.nodes.match(\"Person\", name='Liz').first()\n",
    "p_Mike = tx.graph.nodes.match(\"Person\", name='Mike').first()\n",
    "p_Shawn = tx.graph.nodes.match(\"Person\", name='Shawn').first()\n",
    "p_Steve = tx.graph.nodes.match(\"Person\", name='Steve').first()\n",
    "\n",
    "l_Boston = tx.graph.nodes.match(\"Location\", city='Boston').first()\n",
    "l_Francisco = tx.graph.nodes.match(\"Location\", city='San Francisco').first()\n",
    "l_Miami = tx.graph.nodes.match(\"Location\", city='Miami').first()\n",
    "l_Lynn = tx.graph.nodes.match(\"Location\", city='Lynn').first()\n",
    "\n",
    "p_l_1 =  Relationship(p_John, \"BORN_IN\", l_Boston, year=1978)\n",
    "p_l_2 =  Relationship(p_Liz, \"BORN_IN\", l_Boston, year=1981)\n",
    "p_l_3 =  Relationship(p_Mike, \"BORN_IN\", l_Francisco, year=1960)\n",
    "p_l_4 =  Relationship(p_Shawn, \"BORN_IN\", l_Miami, year=1960)\n",
    "p_l_5 =  Relationship(p_Steve, \"BORN_IN\", l_Lynn, year=1970)\n",
    "A = Subgraph(relationships=[p_l_1, p_l_2, p_l_3, p_l_4, p_l_5])   \n",
    "tx.create(A)\n",
    "tx.commit()\n"
   ]
  },
  {
   "cell_type": "code",
   "execution_count": 20,
   "metadata": {},
   "outputs": [
    {
     "name": "stdout",
     "output_type": "stream",
     "text": [
      "[BORN_IN(Node('Person', name='John'), Node('Location', city='Boston', state='MA'), year=1978), BORN_IN(Node('Person', name='Liz'), Node('Location', city='Boston', state='MA'), year=1981)]\n"
     ]
    }
   ],
   "source": [
    "\n",
    "b = g.nodes.match(\"Location\", city=\"Boston\").first()\n",
    "r1 = g.relationships.match({b}, 'BORN_IN').all()\n",
    "print(r1)\n"
   ]
  },
  {
   "cell_type": "code",
   "execution_count": null,
   "metadata": {},
   "outputs": [],
   "source": []
  },
  {
   "cell_type": "code",
   "execution_count": null,
   "metadata": {},
   "outputs": [],
   "source": []
  },
  {
   "cell_type": "code",
   "execution_count": null,
   "metadata": {},
   "outputs": [],
   "source": []
  }
 ],
 "metadata": {
  "kernelspec": {
   "display_name": "575",
   "language": "python",
   "name": "python3"
  },
  "language_info": {
   "codemirror_mode": {
    "name": "ipython",
    "version": 3
   },
   "file_extension": ".py",
   "mimetype": "text/x-python",
   "name": "python",
   "nbconvert_exporter": "python",
   "pygments_lexer": "ipython3",
   "version": "3.11.8"
  }
 },
 "nbformat": 4,
 "nbformat_minor": 2
}
